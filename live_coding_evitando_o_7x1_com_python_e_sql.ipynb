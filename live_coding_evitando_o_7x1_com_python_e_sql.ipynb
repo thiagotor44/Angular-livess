{
  "nbformat": 4,
  "nbformat_minor": 0,
  "metadata": {
    "colab": {
      "provenance": [],
      "collapsed_sections": [],
      "include_colab_link": true
    },
    "kernelspec": {
      "name": "python3",
      "display_name": "Python 3"
    },
    "language_info": {
      "name": "python"
    }
  },
  "cells": [
    {
      "cell_type": "markdown",
      "metadata": {
        "id": "view-in-github",
        "colab_type": "text"
      },
      "source": [
        "<a href=\"https://colab.research.google.com/github/thiagotor44/Angular-livess/blob/main/live_coding_evitando_o_7x1_com_python_e_sql.ipynb\" target=\"_parent\"><img src=\"https://colab.research.google.com/assets/colab-badge.svg\" alt=\"Open In Colab\"/></a>"
      ]
    },
    {
      "cell_type": "markdown",
      "source": [
        "# Evitando o 7x1 com Python e SQL\n",
        "\n",
        "Aprenda na prática a prever o campeão da Copa do Mundo usando ciência de dados, mesmo que você não entenda nada sobre o assunto. Todo código estará disponível neste link do GitHub: \n",
        "\n",
        "**[github.com/digitalinnovationone/live-coding-evitando-o-7x1-com-python-e-sql](https://github.com/digitalinnovationone/live-coding-evitando-o-7x1-com-python-e-sql)**\n",
        "\n",
        "Acesse nossa [*landing page*](https://lp.dio.me/evitando-7x1-com-python-e-sql/) para saber todos os detalhes do evento."
      ],
      "metadata": {
        "id": "GJm-vq19ibVn"
      }
    },
    {
      "cell_type": "markdown",
      "source": [
        "## 1. Estrutura com os [Grupos e Seleções](https://global.discourse-cdn.com/nubank/original/4X/d/d/b/ddb82274a8785b60d1a19df8aeee768e87091292.jpeg), além de seus respectivos scores ([Ranking FIFA](https://www.ogol.com.br/ranking_fifa.php))"
      ],
      "metadata": {
        "id": "i1-xxLLdEgBE"
      }
    },
    {
      "cell_type": "code",
      "source": [
        "import pandas as pd\n",
        "\n",
        "df = pd.read_csv('https://raw.githubusercontent.com/digitalinnovationone/live-coding-evitando-o-7x1-com-python-e-sql/main/data.csv')\n",
        "df.head()"
      ],
      "metadata": {
        "id": "U1OsqB9oES9m",
        "colab": {
          "base_uri": "https://localhost:8080/",
          "height": 219
        },
        "outputId": "8f37d311-b78c-4d34-de63-d0ce7cbf0dee"
      },
      "execution_count": null,
      "outputs": [
        {
          "output_type": "execute_result",
          "data": {
            "text/plain": [
              "            A           B           C           D           E           F  \\\n",
              "0  CAT|1442.0  EUA|1635.0  ARG|1770.7  AUS|1483.7  ALE|1659.0  BEL|1821.9   \n",
              "1  EQU|1463.7  ING|1737.5  ARA|1435.7  DIN|1665.5  COS|1500.1  CAN|1473.8   \n",
              "2  HOL|1679.4  IRA|1558.6  MEX|1649.6  FRA|1764.9  ESP|1716.9  CRO|1632.2   \n",
              "3  SEN|1584.6  GAL|1582.1  POL|1546.2  TUN|1507.9  JAP|1554.7  MAR|1558.4   \n",
              "\n",
              "            G           H  \n",
              "0  BRA|1837.6  COR|1526.0  \n",
              "1  CAM|1485.0  GAN|1393.5  \n",
              "2  SUI|1621.4  POR|1678.7  \n",
              "3  SER|1549.5  URU|1641.0  "
            ],
            "text/html": [
              "\n",
              "  <div id=\"df-0f6e509f-5222-470d-be5e-42f41ac7aa3b\">\n",
              "    <div class=\"colab-df-container\">\n",
              "      <div>\n",
              "<style scoped>\n",
              "    .dataframe tbody tr th:only-of-type {\n",
              "        vertical-align: middle;\n",
              "    }\n",
              "\n",
              "    .dataframe tbody tr th {\n",
              "        vertical-align: top;\n",
              "    }\n",
              "\n",
              "    .dataframe thead th {\n",
              "        text-align: right;\n",
              "    }\n",
              "</style>\n",
              "<table border=\"1\" class=\"dataframe\">\n",
              "  <thead>\n",
              "    <tr style=\"text-align: right;\">\n",
              "      <th></th>\n",
              "      <th>A</th>\n",
              "      <th>B</th>\n",
              "      <th>C</th>\n",
              "      <th>D</th>\n",
              "      <th>E</th>\n",
              "      <th>F</th>\n",
              "      <th>G</th>\n",
              "      <th>H</th>\n",
              "    </tr>\n",
              "  </thead>\n",
              "  <tbody>\n",
              "    <tr>\n",
              "      <th>0</th>\n",
              "      <td>CAT|1442.0</td>\n",
              "      <td>EUA|1635.0</td>\n",
              "      <td>ARG|1770.7</td>\n",
              "      <td>AUS|1483.7</td>\n",
              "      <td>ALE|1659.0</td>\n",
              "      <td>BEL|1821.9</td>\n",
              "      <td>BRA|1837.6</td>\n",
              "      <td>COR|1526.0</td>\n",
              "    </tr>\n",
              "    <tr>\n",
              "      <th>1</th>\n",
              "      <td>EQU|1463.7</td>\n",
              "      <td>ING|1737.5</td>\n",
              "      <td>ARA|1435.7</td>\n",
              "      <td>DIN|1665.5</td>\n",
              "      <td>COS|1500.1</td>\n",
              "      <td>CAN|1473.8</td>\n",
              "      <td>CAM|1485.0</td>\n",
              "      <td>GAN|1393.5</td>\n",
              "    </tr>\n",
              "    <tr>\n",
              "      <th>2</th>\n",
              "      <td>HOL|1679.4</td>\n",
              "      <td>IRA|1558.6</td>\n",
              "      <td>MEX|1649.6</td>\n",
              "      <td>FRA|1764.9</td>\n",
              "      <td>ESP|1716.9</td>\n",
              "      <td>CRO|1632.2</td>\n",
              "      <td>SUI|1621.4</td>\n",
              "      <td>POR|1678.7</td>\n",
              "    </tr>\n",
              "    <tr>\n",
              "      <th>3</th>\n",
              "      <td>SEN|1584.6</td>\n",
              "      <td>GAL|1582.1</td>\n",
              "      <td>POL|1546.2</td>\n",
              "      <td>TUN|1507.9</td>\n",
              "      <td>JAP|1554.7</td>\n",
              "      <td>MAR|1558.4</td>\n",
              "      <td>SER|1549.5</td>\n",
              "      <td>URU|1641.0</td>\n",
              "    </tr>\n",
              "  </tbody>\n",
              "</table>\n",
              "</div>\n",
              "      <button class=\"colab-df-convert\" onclick=\"convertToInteractive('df-0f6e509f-5222-470d-be5e-42f41ac7aa3b')\"\n",
              "              title=\"Convert this dataframe to an interactive table.\"\n",
              "              style=\"display:none;\">\n",
              "        \n",
              "  <svg xmlns=\"http://www.w3.org/2000/svg\" height=\"24px\"viewBox=\"0 0 24 24\"\n",
              "       width=\"24px\">\n",
              "    <path d=\"M0 0h24v24H0V0z\" fill=\"none\"/>\n",
              "    <path d=\"M18.56 5.44l.94 2.06.94-2.06 2.06-.94-2.06-.94-.94-2.06-.94 2.06-2.06.94zm-11 1L8.5 8.5l.94-2.06 2.06-.94-2.06-.94L8.5 2.5l-.94 2.06-2.06.94zm10 10l.94 2.06.94-2.06 2.06-.94-2.06-.94-.94-2.06-.94 2.06-2.06.94z\"/><path d=\"M17.41 7.96l-1.37-1.37c-.4-.4-.92-.59-1.43-.59-.52 0-1.04.2-1.43.59L10.3 9.45l-7.72 7.72c-.78.78-.78 2.05 0 2.83L4 21.41c.39.39.9.59 1.41.59.51 0 1.02-.2 1.41-.59l7.78-7.78 2.81-2.81c.8-.78.8-2.07 0-2.86zM5.41 20L4 18.59l7.72-7.72 1.47 1.35L5.41 20z\"/>\n",
              "  </svg>\n",
              "      </button>\n",
              "      \n",
              "  <style>\n",
              "    .colab-df-container {\n",
              "      display:flex;\n",
              "      flex-wrap:wrap;\n",
              "      gap: 12px;\n",
              "    }\n",
              "\n",
              "    .colab-df-convert {\n",
              "      background-color: #E8F0FE;\n",
              "      border: none;\n",
              "      border-radius: 50%;\n",
              "      cursor: pointer;\n",
              "      display: none;\n",
              "      fill: #1967D2;\n",
              "      height: 32px;\n",
              "      padding: 0 0 0 0;\n",
              "      width: 32px;\n",
              "    }\n",
              "\n",
              "    .colab-df-convert:hover {\n",
              "      background-color: #E2EBFA;\n",
              "      box-shadow: 0px 1px 2px rgba(60, 64, 67, 0.3), 0px 1px 3px 1px rgba(60, 64, 67, 0.15);\n",
              "      fill: #174EA6;\n",
              "    }\n",
              "\n",
              "    [theme=dark] .colab-df-convert {\n",
              "      background-color: #3B4455;\n",
              "      fill: #D2E3FC;\n",
              "    }\n",
              "\n",
              "    [theme=dark] .colab-df-convert:hover {\n",
              "      background-color: #434B5C;\n",
              "      box-shadow: 0px 1px 3px 1px rgba(0, 0, 0, 0.15);\n",
              "      filter: drop-shadow(0px 1px 2px rgba(0, 0, 0, 0.3));\n",
              "      fill: #FFFFFF;\n",
              "    }\n",
              "  </style>\n",
              "\n",
              "      <script>\n",
              "        const buttonEl =\n",
              "          document.querySelector('#df-0f6e509f-5222-470d-be5e-42f41ac7aa3b button.colab-df-convert');\n",
              "        buttonEl.style.display =\n",
              "          google.colab.kernel.accessAllowed ? 'block' : 'none';\n",
              "\n",
              "        async function convertToInteractive(key) {\n",
              "          const element = document.querySelector('#df-0f6e509f-5222-470d-be5e-42f41ac7aa3b');\n",
              "          const dataTable =\n",
              "            await google.colab.kernel.invokeFunction('convertToInteractive',\n",
              "                                                     [key], {});\n",
              "          if (!dataTable) return;\n",
              "\n",
              "          const docLinkHtml = 'Like what you see? Visit the ' +\n",
              "            '<a target=\"_blank\" href=https://colab.research.google.com/notebooks/data_table.ipynb>data table notebook</a>'\n",
              "            + ' to learn more about interactive tables.';\n",
              "          element.innerHTML = '';\n",
              "          dataTable['output_type'] = 'display_data';\n",
              "          await google.colab.output.renderOutput(dataTable, element);\n",
              "          const docLink = document.createElement('div');\n",
              "          docLink.innerHTML = docLinkHtml;\n",
              "          element.appendChild(docLink);\n",
              "        }\n",
              "      </script>\n",
              "    </div>\n",
              "  </div>\n",
              "  "
            ]
          },
          "metadata": {},
          "execution_count": 106
        }
      ]
    },
    {
      "cell_type": "markdown",
      "source": [
        "##2. Classe que representa um time, com suas características e comportamentos:"
      ],
      "metadata": {
        "id": "LT5NfOUNwXTa"
      }
    },
    {
      "cell_type": "code",
      "source": [
        "import random\n",
        "\n",
        "class Team:\n",
        "  BEST_SCORE = 1837.6 # Brasil (BRA)\n",
        "\n",
        "  # TODO: Definir um construtor com os atributos adequados (tendo em vista o conteúdo de uma célula do CSV)\n",
        "  def __init__(self, cellData):\n",
        "    teamData = cellData.split('|')\n",
        "    self.name = teamData[0]\n",
        "    self.score = float(teamData[1])\n",
        "\n",
        "  def motivate(self):\n",
        "    \"\"\" \n",
        "    A pior seleção da copa (GAN, segundo a FIFA) têm 1393.5 de score, o qual equivale a 75% do melhor score (BRA).\n",
        "    Sendo assim, para que a aleatoriedade não seja tão determinante, podemos definir um intervalo inicial próximo de 75.\n",
        "    \n",
        "    Por exemplo, GAN poderia ter valores entre 70~75 (aproximadamente). Por outro lado, BRA teria 70~100 (maior chance de vitória).\n",
        "    1837.6 (BRA) ----- 100\n",
        "    1393.5 (GAN) -----  X\n",
        "    \"\"\"\n",
        "    self.lastMotivation = random.uniform(70, (self.score * 100) / Team.BEST_SCORE)\n",
        "    return self.lastMotivation"
      ],
      "metadata": {
        "id": "jc2iDAOjwEZK"
      },
      "execution_count": null,
      "outputs": []
    },
    {
      "cell_type": "markdown",
      "source": [
        "##3. Simulando a Fase de Grupos:"
      ],
      "metadata": {
        "id": "0rJ55ARry6o9"
      }
    },
    {
      "cell_type": "code",
      "execution_count": null,
      "metadata": {
        "id": "ZwHNqXF6aGxr",
        "colab": {
          "base_uri": "https://localhost:8080/"
        },
        "outputId": "1a812ac0-f886-4fd9-86cb-f848c24670fa"
      },
      "outputs": [
        {
          "output_type": "stream",
          "name": "stdout",
          "text": [
            "Grupo A: SEN (77.01) CAT (74.72) EQU (74.31) HOL (70.52) \n",
            "Grupo B: ING (88.03) EUA (86.54) IRA (80.54) GAL (74.04) \n",
            "Grupo C: ARG (81.14) ARA (75.45) POL (75.36) MEX (74.64) \n",
            "Grupo D: DIN (89.79) TUN (80.39) FRA (73.70) AUS (72.94) \n",
            "Grupo E: ALE (84.39) JAP (82.20) ESP (76.93) COS (72.44) \n",
            "Grupo F: BEL (84.53) CRO (83.31) MAR (77.54) CAN (76.78) \n",
            "Grupo G: BRA (93.00) SER (83.57) CAM (75.91) SUI (70.20) \n",
            "Grupo H: URU (73.16) GAN (72.28) POR (71.05) COR (70.07) \n"
          ]
        }
      ],
      "source": [
        "# Mapa em que a chave será a letra do grupo e o valor as seleções (que ordenaremos pelas \"melhores\").\n",
        "bestTeamsByGroup = {}\n",
        "# Percorre o dataframe (dados do CSV) para criar nossos objetos/seleções.\n",
        "for label, content in df.items():\n",
        "  # TODO: Instanciar as 4 seleções do grupo, com seus respectivos nomes e score.\n",
        "  team1 = Team(content[0])\n",
        "  team2 = Team(content[1])\n",
        "  team3 = Team(content[2])\n",
        "  team4 = Team(content[3])\n",
        "  # TODO: Simular os melhores do grupo com base na motivação de cada seleção. \n",
        "  #       Calculada a partir do seu ranking FIFA aliado a uma pitada de aleatoriedade.\n",
        "  bestTeamsByGroup[label] = sorted([ team1, team2, team3, team4 ], key=Team.motivate, reverse=True)\n",
        "\n",
        "# TODO: Imprimir os grupos, ordenados pelas melhores seleções de cada (apenas 2 se classificam)\n",
        "for grupo, motivatedTeams in bestTeamsByGroup.items():\n",
        "  print(f'Grupo {grupo}: ', end=\"\")\n",
        "  for team in motivatedTeams:\n",
        "    print(f'{team.name} ({team.lastMotivation:.2f}) ', end=\"\")\n",
        "  print()"
      ]
    },
    {
      "cell_type": "markdown",
      "source": [
        "## 4. Simulando as Oitavas de Final (16 melhores seleções)\n"
      ],
      "metadata": {
        "id": "XdK4ZV0g2pw-"
      }
    },
    {
      "cell_type": "code",
      "source": [
        "# Criando vaiáveis para as 2 melhores seleções de cada grupo:\n",
        "team1A = bestTeamsByGroup['A'][0]\n",
        "team2A = bestTeamsByGroup['A'][1]\n",
        "team1B = bestTeamsByGroup['B'][0]\n",
        "team2B = bestTeamsByGroup['B'][1]\n",
        "team1C = bestTeamsByGroup['C'][0]\n",
        "team2C = bestTeamsByGroup['C'][1]\n",
        "team1D = bestTeamsByGroup['D'][0]\n",
        "team2D = bestTeamsByGroup['D'][1]\n",
        "team1E = bestTeamsByGroup['E'][0]\n",
        "team2E = bestTeamsByGroup['E'][1]\n",
        "team1F = bestTeamsByGroup['F'][0]\n",
        "team2F = bestTeamsByGroup['F'][1]\n",
        "team1G = bestTeamsByGroup['G'][0]\n",
        "team2G = bestTeamsByGroup['G'][1]\n",
        "team1H = bestTeamsByGroup['H'][0]\n",
        "team2H = bestTeamsByGroup['H'][1]\n",
        "\n",
        "# TODO: Simular os confrontos das Oitavas de Final (randomizando novamente suas respectivas motivações).\n",
        "#       Além disso, também definir os classificados para as quartas de final em novas vaiáveis:\n",
        "quarter1 = team1A if team1A.motivate() > team2B.motivate() else team2B\n",
        "quarter2 = team1C if team1C.motivate() > team2D.motivate() else team2D\n",
        "quarter3 = team1E if team1E.motivate() > team2F.motivate() else team2F\n",
        "quarter4 = team1G if team1G.motivate() > team2H.motivate() else team2H\n",
        "quarter5 = team1B if team1B.motivate() > team2A.motivate() else team2A\n",
        "quarter6 = team1D if team1D.motivate() > team2C.motivate() else team2C\n",
        "quarter7 = team1F if team1F.motivate() > team2E.motivate() else team2E\n",
        "quarter8 = team1H if team1H.motivate() > team2G.motivate() else team2G\n",
        "\n",
        "# TODO: Imprimir os \"resultados\" dos confrontos realizados nas Oitavas de Final:\n",
        "print(f'{team1A.name} ({team1A.lastMotivation:.2f}) x {team2B.name} ({team2B.lastMotivation:.2f})')\n",
        "print(f'{team1C.name} ({team1C.lastMotivation:.2f}) x {team2D.name} ({team2D.lastMotivation:.2f})')\n",
        "print(f'{team1E.name} ({team1E.lastMotivation:.2f}) x {team2F.name} ({team2F.lastMotivation:.2f})')\n",
        "print(f'{team1G.name} ({team1G.lastMotivation:.2f}) x {team2H.name} ({team2H.lastMotivation:.2f})')\n",
        "print(f'{team1B.name} ({team1B.lastMotivation:.2f}) x {team2A.name} ({team2A.lastMotivation:.2f})')\n",
        "print(f'{team1D.name} ({team1D.lastMotivation:.2f}) x {team2C.name} ({team2C.lastMotivation:.2f})')\n",
        "print(f'{team1F.name} ({team1F.lastMotivation:.2f}) x {team2E.name} ({team2E.lastMotivation:.2f})')\n",
        "print(f'{team1H.name} ({team1H.lastMotivation:.2f}) x {team2G.name} ({team2G.lastMotivation:.2f})')"
      ],
      "metadata": {
        "id": "wdyYgEkV2uhA",
        "colab": {
          "base_uri": "https://localhost:8080/"
        },
        "outputId": "b4d709b4-59fc-4e73-f3b6-fb6b1250b677"
      },
      "execution_count": 11,
      "outputs": [
        {
          "output_type": "stream",
          "name": "stdout",
          "text": [
            "HOL (90.83) x GAL (85.24)\n",
            "ARG (78.25) x AUS (71.11)\n",
            "ESP (82.06) x BEL (74.68)\n",
            "BRA (99.97) x COR (74.45)\n",
            "EUA (73.71) x EQU (75.65)\n",
            "DIN (86.16) x POL (78.77)\n",
            "CRO (77.45) x ALE (85.10)\n",
            "POR (90.98) x SUI (83.05)\n"
          ]
        }
      ]
    },
    {
      "cell_type": "markdown",
      "source": [
        "## 5. Simulando as Quartas de Final (8 melhores seleções)"
      ],
      "metadata": {
        "id": "QoplyoqDGFQC"
      }
    },
    {
      "cell_type": "code",
      "source": [
        "# TODO: Simular os confrontos das Quartas de Final (randomizando novamente suas respectivas motivações).\n",
        "#       Além disso, também definir os classificados para as semifinais em novas vaiáveis:\n",
        "semi1 = quarter1 if quarter1.motivate() > quarter2.motivate() else quarter2\n",
        "semi2 = quarter3 if quarter3.motivate() > quarter4.motivate() else quarter4\n",
        "semi3 = quarter5 if quarter5.motivate() > quarter6.motivate() else quarter6\n",
        "semi4 = quarter7 if quarter7.motivate() > quarter8.motivate() else quarter8\n",
        "\n",
        "# TODO: Imprimir os \"resultados\" dos confrontos realizados nas Quartas de Final:\n",
        "print(f'{quarter1.name} ({quarter1.lastMotivation:.2f}) x {quarter2.name} ({quarter2.lastMotivation:.2f})')\n",
        "print(f'{quarter3.name} ({quarter3.lastMotivation:.2f}) x {quarter4.name} ({quarter4.lastMotivation:.2f})')\n",
        "print(f'{quarter5.name} ({quarter5.lastMotivation:.2f}) x {quarter6.name} ({quarter6.lastMotivation:.2f})')\n",
        "print(f'{quarter7.name} ({quarter7.lastMotivation:.2f}) x {quarter8.name} ({quarter8.lastMotivation:.2f})')"
      ],
      "metadata": {
        "id": "7PCQCm2BGFfV",
        "colab": {
          "base_uri": "https://localhost:8080/"
        },
        "outputId": "84c9b302-e4c7-41b4-9c55-52e8bc9b1180"
      },
      "execution_count": 12,
      "outputs": [
        {
          "output_type": "stream",
          "name": "stdout",
          "text": [
            "HOL (74.05) x ARG (76.92)\n",
            "ESP (80.06) x BRA (98.25)\n",
            "EQU (71.69) x DIN (88.06)\n",
            "ALE (77.14) x POR (72.67)\n"
          ]
        }
      ]
    },
    {
      "cell_type": "markdown",
      "source": [
        "## 6. Simulando as Semifinais (4 melhores seleções)"
      ],
      "metadata": {
        "id": "15JaIEPIIxKO"
      }
    },
    {
      "cell_type": "code",
      "source": [
        "# TODO: Simular os confrontos das Semifinais (randomizando novamente suas respectivas motivações).\n",
        "#       Além disso, também definir os classificados para a final e disputa de 3º e 4º em novas vaiáveis:\n",
        "final1 = semi1 if semi1.motivate() > semi2.motivate() else semi2\n",
        "terceiro1 = semi1 if semi1.lastMotivation < semi2.lastMotivation else semi2\n",
        "\n",
        "final2 = None\n",
        "terceiro2 = None\n",
        "if semi3.motivate() > semi4.motivate():\n",
        "  final2 = semi3\n",
        "  terceiro2 = semi4\n",
        "else:\n",
        "  final2 = semi4\n",
        "  terceiro2 = semi3\n",
        "\n",
        "# TODO: Imprimir os \"resultados\" dos confrontos realizados nas Semifinais:\n",
        "print(f'{semi1.name} ({semi1.lastMotivation:.2f}) x {semi2.name} ({semi2.lastMotivation:.2f})')\n",
        "print(f'{semi3.name} ({semi3.lastMotivation:.2f}) x {semi4.name} ({semi4.lastMotivation:.2f})')"
      ],
      "metadata": {
        "id": "4STt-WtWIxWF",
        "colab": {
          "base_uri": "https://localhost:8080/"
        },
        "outputId": "bfe8f29e-1341-441f-afce-ea0e44ed0d3f"
      },
      "execution_count": 13,
      "outputs": [
        {
          "output_type": "stream",
          "name": "stdout",
          "text": [
            "ARG (74.51) x BRA (83.51)\n",
            "DIN (82.65) x ALE (72.26)\n"
          ]
        }
      ]
    },
    {
      "cell_type": "markdown",
      "source": [
        "## 7. Simulando a Final (2 melhores seleções)"
      ],
      "metadata": {
        "id": "BUgLpU_DLWCX"
      }
    },
    {
      "cell_type": "code",
      "source": [
        "# TODO: Simular os confrontos das Finais (randomizando novamente suas respectivas motivações).\n",
        "#       Além disso, também definir os 4 primeiros colocamos da Copa do Mundo de 2022:\n",
        "winner = final1 if final1.motivate() > final2.motivate() else final2\n",
        "second = final1 if final1.lastMotivation < final2.lastMotivation else final2\n",
        "third = terceiro1 if terceiro1.motivate() > terceiro2.motivate() else terceiro2\n",
        "fourth = terceiro1 if terceiro1.lastMotivation < terceiro2.lastMotivation else terceiro2\n",
        "\n",
        "# TODO: Imprimir os \"resultados\" dos confrontos realizados nas Finais:\n",
        "print(f'1º: {winner.name} ({winner.lastMotivation:.2f})')\n",
        "print(f'2º: {second.name} ({second.lastMotivation:.2f})')\n",
        "print(f'3º: {third.name} ({third.lastMotivation:.2f})')\n",
        "print(f'4º: {fourth.name} ({fourth.lastMotivation:.2f})')"
      ],
      "metadata": {
        "id": "HbXxH9KbLWLq",
        "colab": {
          "base_uri": "https://localhost:8080/"
        },
        "outputId": "9c51622d-00a8-4dee-90a7-052410598d1f"
      },
      "execution_count": 15,
      "outputs": [
        {
          "output_type": "stream",
          "name": "stdout",
          "text": [
            "1º: BRA (91.18)\n",
            "2º: DIN (70.82)\n",
            "3º: ARG (89.73)\n",
            "4º: ALE (89.10)\n"
          ]
        }
      ]
    }
  ]
}